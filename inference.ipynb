{
 "cells": [
  {
   "cell_type": "code",
   "execution_count": null,
   "metadata": {},
   "outputs": [],
   "source": [
    "# import csv\n",
    "# with open('output_caption/average.json', 'r') as f:\n",
    "#     data = json.load(f)\n",
    "\n",
    "# with open('pred.csv', 'w') as f:\n",
    "#     w = csv.writer(f)\n",
    "#     w.writerows(data.items())"
   ]
  },
  {
   "cell_type": "code",
   "execution_count": 3,
   "metadata": {},
   "outputs": [
    {
     "name": "stdout",
     "output_type": "stream",
     "text": [
      "loading annotations into memory...\n",
      "Done (t=0.00s)\n",
      "creating index...\n",
      "index created!\n",
      "loading annotations into memory...\n",
      "Done (t=0.00s)\n",
      "creating index...\n",
      "index created!\n",
      "tokenization...\n"
     ]
    },
    {
     "name": "stderr",
     "output_type": "stream",
     "text": [
      "Apr 11, 2023 3:43:15 AM edu.stanford.nlp.process.PTBLexer next\n",
      "WARNING: Untokenizable: � (U+FFFD, decimal: 65533)\n",
      "PTBTokenizer tokenized 61388 tokens at 354984.88 tokens per second.\n",
      "PTBTokenizer tokenized 54451 tokens at 478619.41 tokens per second.\n"
     ]
    },
    {
     "name": "stdout",
     "output_type": "stream",
     "text": [
      "setting up scorers...\n",
      "computing Bleu score...\n",
      "{'testlen': 49427, 'reflen': 56389, 'guess': [49427, 44427, 39427, 34427], 'correct': [16461, 4481, 1576, 572]}\n",
      "ratio: 0.8765362038695336\n",
      "Bleu_1: 0.289\n",
      "Bleu_2: 0.159\n",
      "Bleu_3: 0.096\n",
      "Bleu_4: 0.060\n",
      "computing METEOR score...\n",
      "METEOR: 0.121\n",
      "computing Rouge score...\n",
      "ROUGE_L: 0.275\n",
      "computing CIDEr score...\n",
      "CIDEr: 0.681\n"
     ]
    }
   ],
   "source": [
    "import json\n",
    "from pycocoevalcap.eval import COCOEvalCap\n",
    "from pycocotools.coco import COCO\n",
    "\n",
    "def preprocess(infile, outfile):\n",
    "    gr = {}\n",
    "    with open(infile,'r') as f:\n",
    "        json_data = json.load(f)\n",
    "\n",
    "    gr[\"annotations\"] = []\n",
    "    gr[\"images\"] = []\n",
    "\n",
    "    for key, value in json_data.items():\n",
    "        temp_2, temp_3 = {}, {}\n",
    "        temp_2[\"image_id\"] = key\n",
    "        temp_2[\"caption\"] = value\n",
    "        temp_2[\"id\"] = key\n",
    "        temp_3[\"id\"] = key\n",
    "        gr[\"annotations\"].append(temp_2)\n",
    "        gr[\"images\"].append(temp_3)\n",
    "\n",
    "    with open(outfile, 'w') as f:\n",
    "        json.dump(gr, f)\n",
    "\n",
    "file_name = 'average_sqrt2'\n",
    "infile = './output_caption/' + file_name + '.json'\n",
    "outfile = './for_inference/' + file_name + '.json'\n",
    "\n",
    "preprocess(infile=infile, outfile=outfile)\n",
    "\n",
    "coco_eval = COCOEvalCap(COCO('for_inference/nice_gt.json'), COCO(outfile))\n",
    "coco_eval.evaluate()"
   ]
  },
  {
   "cell_type": "code",
   "execution_count": 4,
   "metadata": {},
   "outputs": [
    {
     "name": "stdout",
     "output_type": "stream",
     "text": [
      "loading annotations into memory...\n",
      "Done (t=0.01s)\n",
      "creating index...\n",
      "index created!\n",
      "loading annotations into memory...\n",
      "Done (t=0.01s)\n",
      "creating index...\n",
      "index created!\n",
      "tokenization...\n"
     ]
    },
    {
     "name": "stderr",
     "output_type": "stream",
     "text": [
      "Apr 11, 2023 3:43:34 AM edu.stanford.nlp.process.PTBLexer next\n",
      "WARNING: Untokenizable: � (U+FFFD, decimal: 65533)\n",
      "PTBTokenizer tokenized 61388 tokens at 374796.81 tokens per second.\n",
      "PTBTokenizer tokenized 54451 tokens at 473598.05 tokens per second.\n"
     ]
    },
    {
     "name": "stdout",
     "output_type": "stream",
     "text": [
      "setting up scorers...\n",
      "computing Bleu score...\n",
      "{'testlen': 49427, 'reflen': 56389, 'guess': [49427, 44427, 39427, 34427], 'correct': [16461, 4481, 1576, 572]}\n",
      "ratio: 0.8765362038695336\n",
      "Bleu_1: 0.289\n",
      "Bleu_2: 0.159\n",
      "Bleu_3: 0.096\n",
      "Bleu_4: 0.060\n",
      "computing METEOR score...\n",
      "METEOR: 0.121\n",
      "computing Rouge score...\n",
      "ROUGE_L: 0.275\n",
      "computing CIDEr score...\n",
      "CIDEr: 0.681\n"
     ]
    }
   ],
   "source": [
    "file_name = 'average_sqrt3'\n",
    "infile = './output_caption/' + file_name + '.json'\n",
    "outfile = './for_inference/' + file_name + '.json'\n",
    "\n",
    "preprocess(infile=infile, outfile=outfile)\n",
    "\n",
    "coco_eval = COCOEvalCap(COCO('for_inference/nice_gt.json'), COCO(outfile))\n",
    "coco_eval.evaluate()"
   ]
  },
  {
   "cell_type": "code",
   "execution_count": 5,
   "metadata": {},
   "outputs": [
    {
     "name": "stdout",
     "output_type": "stream",
     "text": [
      "loading annotations into memory...\n",
      "Done (t=0.00s)\n",
      "creating index...\n",
      "index created!\n",
      "loading annotations into memory...\n",
      "Done (t=0.00s)\n",
      "creating index...\n",
      "index created!\n",
      "tokenization...\n"
     ]
    },
    {
     "name": "stderr",
     "output_type": "stream",
     "text": [
      "Apr 11, 2023 4:34:30 AM edu.stanford.nlp.process.PTBLexer next\n",
      "WARNING: Untokenizable: � (U+FFFD, decimal: 65533)\n",
      "PTBTokenizer tokenized 61388 tokens at 377905.36 tokens per second.\n",
      "PTBTokenizer tokenized 54451 tokens at 488382.22 tokens per second.\n"
     ]
    },
    {
     "name": "stdout",
     "output_type": "stream",
     "text": [
      "setting up scorers...\n",
      "computing Bleu score...\n",
      "{'testlen': 49427, 'reflen': 56389, 'guess': [49427, 44427, 39427, 34427], 'correct': [16461, 4481, 1576, 572]}\n",
      "ratio: 0.8765362038695336\n",
      "Bleu_1: 0.289\n",
      "Bleu_2: 0.159\n",
      "Bleu_3: 0.096\n",
      "Bleu_4: 0.060\n",
      "computing METEOR score...\n",
      "METEOR: 0.121\n",
      "computing Rouge score...\n",
      "ROUGE_L: 0.275\n",
      "computing CIDEr score...\n",
      "CIDEr: 0.681\n"
     ]
    }
   ],
   "source": [
    "file_name = 'average'\n",
    "infile = './output_caption/' + file_name + '.json'\n",
    "outfile = './for_inference/' + file_name + '.json'\n",
    "\n",
    "preprocess(infile=infile, outfile=outfile)\n",
    "\n",
    "coco_eval = COCOEvalCap(COCO('for_inference/nice_gt.json'), COCO(outfile))\n",
    "coco_eval.evaluate()"
   ]
  }
 ],
 "metadata": {
  "kernelspec": {
   "display_name": "clip_prefix_caption",
   "language": "python",
   "name": "python3"
  },
  "language_info": {
   "codemirror_mode": {
    "name": "ipython",
    "version": 3
   },
   "file_extension": ".py",
   "mimetype": "text/x-python",
   "name": "python",
   "nbconvert_exporter": "python",
   "pygments_lexer": "ipython3",
   "version": "3.9.16"
  },
  "orig_nbformat": 4
 },
 "nbformat": 4,
 "nbformat_minor": 2
}
